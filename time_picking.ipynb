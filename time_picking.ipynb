{
 "cells": [
  {
   "cell_type": "code",
   "execution_count": 1,
   "id": "e91d5651-bbc2-4bb1-88c3-4c06901e52b7",
   "metadata": {},
   "outputs": [],
   "source": [
    "# Imports\n",
    "import das4whales as dw\n",
    "import scipy.signal as sp\n",
    "import numpy as np\n",
    "import matplotlib.pyplot as plt\n",
    "from matplotlib.colors import LogNorm\n",
    "import cv2"
   ]
  },
  {
   "cell_type": "code",
   "execution_count": 2,
   "id": "43df2886-6a2a-4d80-a755-643fcb4cb0db",
   "metadata": {},
   "outputs": [],
   "source": [
    "# Matplotlib settings\n",
    "plt.rcParams['font.size'] = 20"
   ]
  },
  {
   "cell_type": "code",
   "execution_count": 3,
   "id": "6cd325ba-af80-4ea3-9717-181f67cc70a1",
   "metadata": {},
   "outputs": [
    {
     "name": "stdout",
     "output_type": "stream",
     "text": [
      "South-C1-LR-95km-P1kHz-GL50m-SP2m-FS200Hz_2021-11-04T020014Z.h5 already stored locally\n"
     ]
    }
   ],
   "source": [
    "# The dataset of this example is constituted of 60s time series along  66 km of cable\n",
    "url_before = 'http://piweb.ooirsn.uw.edu/das/data/Optasense/NorthCable/TransmitFiber/'\\\n",
    "        'North-C1-LR-P1kHz-GL50m-Sp2m-FS200Hz_2021-11-03T15_06_51-0700/'\\\n",
    "        'North-C1-LR-P1kHz-GL50m-Sp2m-FS200Hz_2021-11-04T015902Z.h5'\n",
    "\n",
    "url = 'http://piweb.ooirsn.uw.edu/das/data/Optasense/NorthCable/TransmitFiber/'\\\n",
    "        'North-C1-LR-P1kHz-GL50m-Sp2m-FS200Hz_2021-11-03T15_06_51-0700/'\\\n",
    "        'North-C1-LR-P1kHz-GL50m-Sp2m-FS200Hz_2021-11-04T020002Z.h5'\n",
    "\n",
    "url_next = 'http://piweb.ooirsn.uw.edu/das/data/Optasense/NorthCable/TransmitFiber/'\\\n",
    "        'North-C1-LR-P1kHz-GL50m-Sp2m-FS200Hz_2021-11-03T15_06_51-0700/'\\\n",
    "        'North-C1-LR-P1kHz-GL50m-Sp2m-FS200Hz_2021-11-04T020102Z.h5'\n",
    "\n",
    "url_south = 'http://piweb.ooirsn.uw.edu/das/data/Optasense/SouthCable/TransmitFiber/'\\\n",
    "        'South-C1-LR-95km-P1kHz-GL50m-SP2m-FS200Hz_2021-11-01T16_09_15-0700/'\\\n",
    "        'South-C1-LR-95km-P1kHz-GL50m-SP2m-FS200Hz_2021-11-04T020014Z.h5'\n",
    "\n",
    "filepath = dw.data_handle.dl_file(url_south)"
   ]
  },
  {
   "cell_type": "code",
   "execution_count": 4,
   "id": "a284f109-cd45-4b1a-b10f-218498695e60",
   "metadata": {},
   "outputs": [
    {
     "name": "stdout",
     "output_type": "stream",
     "text": [
      "Sampling frequency: 200.0 Hz\n",
      "Channel spacing: 2.0419046878814697 m\n",
      "Gauge length: 51.0476188659668 m\n",
      "File duration: 60.0 s\n",
      "Cable max distance: 97.0 km\n",
      "Number of channels: 47500\n",
      "Number of time samples: 12000\n"
     ]
    }
   ],
   "source": [
    "# Read HDF5 files and access metadata\n",
    "# Get the acquisition parameters for the data folder\n",
    "metadata = dw.data_handle.get_acquisition_parameters(filepath, interrogator='optasense')\n",
    "fs, dx, nx, ns, gauge_length, scale_factor = metadata[\"fs\"], metadata[\"dx\"], metadata[\"nx\"], metadata[\"ns\"], metadata[\"GL\"], metadata[\"scale_factor\"]\n",
    "\n",
    "print(f'Sampling frequency: {metadata[\"fs\"]} Hz')\n",
    "print(f'Channel spacing: {metadata[\"dx\"]} m')\n",
    "print(f'Gauge length: {metadata[\"GL\"]} m')\n",
    "print(f'File duration: {metadata[\"ns\"] / metadata[\"fs\"]} s')\n",
    "print(f'Cable max distance: {metadata[\"nx\"] * metadata[\"dx\"]/1e3:.1f} km')\n",
    "print(f'Number of channels: {metadata[\"nx\"]}')\n",
    "print(f'Number of time samples: {metadata[\"ns\"]}')"
   ]
  },
  {
   "cell_type": "code",
   "execution_count": 5,
   "id": "9fce022a-46ff-4786-813c-2471e25b1ce9",
   "metadata": {
    "editable": true,
    "slideshow": {
     "slide_type": ""
    },
    "tags": []
   },
   "outputs": [
    {
     "name": "stdout",
     "output_type": "stream",
     "text": [
      "Begin channel #: 5876 , End channel #:  39179 , step:  1 equivalent to  2.0419046878814697  m\n"
     ]
    }
   ],
   "source": [
    "# South cable\n",
    "# selected_channels_m = [20000, 80000, 5]  # list of values in meters corresponding to the starting,\n",
    "#                                           # ending and step wanted channels along the FO Cable\n",
    "#                                           # selected_channels_m = [ChannelStart_m, ChannelStop_m, ChannelStep_m]\n",
    "#                                           # in meters\n",
    "\n",
    "# North cable\n",
    "selected_channels_m = [12000, 80000, 3]  # list of values in meters corresponding to the starting,\n",
    "                                          # ending and step wanted channels along the FO Cable\n",
    "                                          # selected_channels_m = [ChannelStart_m, ChannelStop_m, ChannelStep_m]\n",
    "                                          # in meters\n",
    "\n",
    "selected_channels = [int(selected_channels_m // dx) for selected_channels_m in\n",
    "                     selected_channels_m]  # list of values in channel number (spatial sample) corresponding to the starting, ending and step wanted\n",
    "                                           # channels along the FO Cable\n",
    "                                           # selected_channels = [ChannelStart, ChannelStop, ChannelStep] in channel\n",
    "                                           # numbers\n",
    "\n",
    "print('Begin channel #:', selected_channels[0], \n",
    "      ', End channel #: ',selected_channels[1], \n",
    "      ', step: ',selected_channels[2], \n",
    "      'equivalent to ',selected_channels[2]*dx,' m')"
   ]
  },
  {
   "cell_type": "code",
   "execution_count": 6,
   "id": "57b769d8-d6a4-4e05-8bc3-97e1e888b766",
   "metadata": {
    "editable": true,
    "slideshow": {
     "slide_type": ""
    },
    "tags": []
   },
   "outputs": [],
   "source": [
    "tr, time, dist, fileBeginTimeUTC = dw.data_handle.load_das_data(filepath, selected_channels, metadata)"
   ]
  },
  {
   "cell_type": "code",
   "execution_count": 7,
   "id": "321ae6bb-f90c-4677-aa7e-922ceccd94b5",
   "metadata": {},
   "outputs": [
    {
     "name": "stdout",
     "output_type": "stream",
     "text": [
      "(33303, 12000)\n"
     ]
    }
   ],
   "source": [
    "print(np.shape(tr))"
   ]
  },
  {
   "cell_type": "code",
   "execution_count": 8,
   "id": "0655d95f-927a-478d-81c2-729c9e0163ad",
   "metadata": {},
   "outputs": [],
   "source": [
    "# Create the f-k filter \n",
    "# includes band-pass filter trf = sp.sosfiltfilt(sos_bpfilter, tr, axis=1) \n",
    "\n",
    "# fk_filter = dw.dsp.hybrid_ninf_gs_filter_design((tr.shape[0],tr.shape[1]), selected_channels, dx, fs, c_min=1450, c_max=3300, fmin=14, fmax=30, display_filter=False)\n",
    "# fk_filter_noise = dw.dsp.hybrid_ninf_gs_filter_design((tr.shape[0],tr.shape[1]), selected_channels, dx, fs, c_min=1450, c_max=3500, fmin=35, fmax=51, display_filter=False)\n",
    "\n",
    "fk_filter = dw.dsp.hybrid_ninf_filter_design((tr.shape[0],tr.shape[1]), selected_channels, dx, fs, cs_min=1400, cp_min=1480, cp_max=3300, cs_max=3500, fmin=14, fmax=30, display_filter=False)\n",
    "fk_filter_noise = dw.dsp.hybrid_ninf_filter_design((tr.shape[0],tr.shape[1]), selected_channels, dx, fs, cs_min=1400, cp_min=1480, cp_max=3300, cs_max=3500, fmin=35, fmax=51, display_filter=False)"
   ]
  },
  {
   "cell_type": "code",
   "execution_count": null,
   "id": "d5373920-19b9-4e66-8c23-af6b254095c3",
   "metadata": {},
   "outputs": [
    {
     "name": "stdout",
     "output_type": "stream",
     "text": [
      "The size of the sparse filter is 1.7178 Gib\n",
      "The size of the dense filter is 2.98 Gib\n",
      "The compression ratio is 1.73 (42.3 %)\n"
     ]
    }
   ],
   "source": [
    "\n",
    "# Print the compression ratio given by the sparse matrix usage\n",
    "dw.tools.disp_comprate(fk_filter)\n",
    "\n",
    "# Apply the hybrid f-k filter to the data, returns spatio-temporal strain matrix\n",
    "trf_fk = dw.dsp.fk_filter_sparsefilt(tr, fk_filter, tapering=True)\n",
    "noise = dw.dsp.fk_filter_sparsefilt(tr, fk_filter_noise, tapering=True)\n",
    "\n",
    "# Delete the original data to free memory\n",
    "del tr"
   ]
  },
  {
   "cell_type": "code",
   "execution_count": null,
   "id": "27eddb12-01cb-4c7a-be65-ab3ea08871be",
   "metadata": {},
   "outputs": [],
   "source": [
    "# Compute the cross-correlograms\n",
    "\n",
    "trf_fk = dw.dsp.normalize_std(trf_fk)\n",
    "\n",
    "HF_note = dw.detect.gen_hyperbolic_chirp(17.8, 28.8, 0.68, fs)\n",
    "HF_note = np.hanning(len(HF_note)) * HF_note\n",
    "\n",
    "LF_note = dw.detect.gen_hyperbolic_chirp(14.7, 21.8, 0.78, fs)\n",
    "LF_note = np.hanning(len(LF_note)) * LF_note\n",
    "\n",
    "nmf_m_HF = dw.detect.calc_nmf_correlogram(trf_fk, HF_note)\n",
    "nmf_m_LF = dw.detect.calc_nmf_correlogram(trf_fk, LF_note)\n",
    "\n",
    "nmf_m_HF = dw.dsp.normalize_std(nmf_m_HF)\n",
    "nmf_m_LF = dw.dsp.normalize_std(nmf_m_LF)\n",
    "\n",
    "del trf_fk"
   ]
  },
  {
   "cell_type": "code",
   "execution_count": null,
   "id": "1e0238cc-9b07-4efd-9563-8002feb4b9a0",
   "metadata": {},
   "outputs": [],
   "source": [
    "def moving_average(signal, window_size):\n",
    "    return np.convolve(signal, np.ones(window_size) / window_size, mode='same')\n",
    "\n",
    "\n",
    "def moving_average_matrix(matrix, window_size):\n",
    "    return np.array([moving_average(matrix[i, :], window_size) for i in range(matrix.shape[0])])\n",
    "\n",
    "window_size = 100  # Define the window size for the moving average\n",
    "noise = dw.dsp.normalize_std(noise)\n",
    "\n",
    "# noise_avg = moving_average_matrix(abs(sp.hilbert(noise)), window_size)\n",
    "noise_avg = moving_average_matrix(abs(sp.hilbert(noise)), window_size)\n",
    "del noise\n"
   ]
  },
  {
   "cell_type": "code",
   "execution_count": null,
   "id": "fb3b5f3d-80f9-4376-b1de-35333f2a6ccb",
   "metadata": {},
   "outputs": [],
   "source": [
    "SNR_hf = 20 * np.log10(abs(sp.hilbert(nmf_m_HF, axis=1)) / abs(sp.hilbert(noise_avg, axis=1)))\n",
    "SNR_lf = 20 * np.log10(abs(sp.hilbert(nmf_m_LF, axis=1)) / abs(sp.hilbert(noise_avg, axis=1)))\n",
    "\n",
    "# Smooth the SNR with a gaussian filter and normalize it\n",
    "th_SNR_hf = cv2.GaussianBlur(SNR_hf, (9, 73), 0)\n",
    "th_SNR_lf = cv2.GaussianBlur(SNR_lf, (9, 73), 0)\n"
   ]
  },
  {
   "cell_type": "code",
   "execution_count": null,
   "id": "a4ba4e93-518c-4baa-9742-9b1ffa786ea1",
   "metadata": {},
   "outputs": [],
   "source": [
    "# Threshold the SNR matrix in an efficient way, keeping the original matrix\n",
    "th_SNR_hf = np.where(th_SNR_hf < 0, 0, th_SNR_hf)\n",
    "th_SNR_lf = np.where(th_SNR_hf < 0, 0, th_SNR_lf)\n",
    "\n",
    "del fk_filter, nmf_m_HF, nmf_m_LF"
   ]
  },
  {
   "cell_type": "code",
   "execution_count": null,
   "id": "a72b07ea-af81-45ff-ab7f-a17988de84a9",
   "metadata": {},
   "outputs": [],
   "source": [
    "dw.plot.snr_matrix(th_SNR_hf, time, dist, 20, fileBeginTimeUTC, title='mf detect: HF')\n",
    "dw.plot.snr_matrix(th_SNR_lf, time, dist, 20, fileBeginTimeUTC, title ='mf detect: LF')"
   ]
  },
  {
   "cell_type": "code",
   "execution_count": null,
   "id": "4c32ecb6-a7b1-418e-98df-a3a0078d0779",
   "metadata": {},
   "outputs": [],
   "source": [
    "# Purge memory\n",
    "del SNR_hf, SNR_lf"
   ]
  },
  {
   "cell_type": "code",
   "execution_count": null,
   "id": "34e21860-7241-458f-a246-73e3893401ca",
   "metadata": {},
   "outputs": [],
   "source": [
    "# Detect the events\n",
    "from tqdm import tqdm\n",
    "\n",
    "ipi = 3 # Inter pulse interval in seconds\n",
    "th = 0. # Threshold for the peak detection in dB\n",
    "\n",
    "peaks_indexes_HF = []\n",
    "peaks_indexes_LF = []\n",
    "\n",
    "for corr in tqdm(th_SNR_hf, desc=\"Processing corr_m\"):\n",
    "    peaks_indexes,_ = sp.find_peaks(corr, distance = ipi * fs, height=th)\n",
    "    peaks_indexes_HF.append(peaks_indexes)\n",
    "\n",
    "for corr in tqdm(th_SNR_lf, desc=\"Processing corr_m\"):\n",
    "    peaks_indexes,_ = sp.find_peaks(corr, distance = ipi * fs, height=th)  \n",
    "    peaks_indexes_LF.append(peaks_indexes)\n",
    "\n",
    "# # Convert the list of array to tuple format\n",
    "peaks_indexes_tp_HF = dw.detect.convert_pick_times(peaks_indexes_HF)\n",
    "peaks_indexes_tp_LF = dw.detect.convert_pick_times(peaks_indexes_LF)"
   ]
  },
  {
   "cell_type": "code",
   "execution_count": null,
   "id": "4e7ba38b-20c3-4800-9e9c-aaf06a1c1d62",
   "metadata": {},
   "outputs": [],
   "source": [
    "# Try delayed histogram on the detections with 5 km distance window\n",
    "plt.figure(figsize=(12,10))\n",
    "plt.scatter(peaks_indexes_tp_HF[1] / fs, (peaks_indexes_tp_HF[0] * selected_channels[2] + selected_channels[0]) * dx /1e3, color='tab:blue', marker='.', label='HF_note', s=0.5)\n",
    "plt.xlabel('Time (s)')\n",
    "plt.ylabel('Distance (km)')\n",
    "plt.show()"
   ]
  },
  {
   "cell_type": "code",
   "execution_count": null,
   "id": "15478f18-e8de-40e3-b8e7-21028fc2add6",
   "metadata": {},
   "outputs": [],
   "source": [
    "plt.figure(figsize=(12,10))\n",
    "plt.scatter(peaks_indexes_tp_LF[1] / fs, (peaks_indexes_tp_LF[0] * selected_channels[2] + selected_channels[0]) * dx /1e3, color='tab:red', marker='.', label='HF_note', s=0.5)\n",
    "plt.xlabel('Time (s)')\n",
    "plt.ylabel('Distance (km)')\n",
    "plt.show()"
   ]
  }
 ],
 "metadata": {
  "kernelspec": {
   "display_name": "Python 3 (ipykernel)",
   "language": "python",
   "name": "python3"
  },
  "language_info": {
   "codemirror_mode": {
    "name": "ipython",
    "version": 3
   },
   "file_extension": ".py",
   "mimetype": "text/x-python",
   "name": "python",
   "nbconvert_exporter": "python",
   "pygments_lexer": "ipython3",
   "version": "3.12.4"
  }
 },
 "nbformat": 4,
 "nbformat_minor": 5
}
